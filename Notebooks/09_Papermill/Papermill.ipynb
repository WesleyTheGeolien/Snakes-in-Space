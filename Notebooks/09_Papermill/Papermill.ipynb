{
 "cells": [
  {
   "cell_type": "markdown",
   "metadata": {},
   "source": [
    "# Papermill\n",
    "\n",
    "[Papermill](https://papermill.readthedocs.io/en/latest/) is a library built by [nteract](https://nteract.io) (backed by Netflix) and is used to execute notebooks from the command line.\n",
    "\n",
    "It allows users to add a `paparmeters` tag to 1 (and only one) cell. Then the notebook can be executed with passing the parameters in at the command line or from a python script.\n",
    "\n",
    "There are 2 APIs to the papermill library:\n",
    "- Command line interface (simplist)\n",
    "- python (this allows executing other notebooks from the initial notebook meaning complex dependant workflows can be created)\n",
    "\n",
    "# Benefits\n",
    "\n",
    "Bash / python scripts can be used to run tasks on a basis (using cron for example) however where Papermill is useful is that the outputs are in line, allowing user to rerun the notebooks afterfact and study the outputs more deeply. Also using jupyter eases the process of creating interactive documents."
   ]
  },
  {
   "cell_type": "markdown",
   "metadata": {},
   "source": [
    "# Workflow\n",
    "\n",
    "## Create parameters cell\n",
    "\n",
    "First thing we have to decalre the parameters cell.\n",
    "\n",
    "### Jupyter lab 3\n",
    "\n",
    "<img src='Cell_tag.png' style=\"height=300px\"/>"
   ]
  },
  {
   "cell_type": "code",
   "execution_count": null,
   "metadata": {},
   "outputs": [],
   "source": [
    "text = \"Hello World\""
   ]
  },
  {
   "cell_type": "markdown",
   "metadata": {},
   "source": [
    "## Run notebook from command line \n",
    "To see parameters:\n",
    "`papermill --help-notebook inputnotebook.ipynb`\n",
    "\n",
    "\n",
    "`papermill inputnotebook.ipynb outputnotebook.ipynb -k KERNEL_NAME -p PARAMETER_NAME PARAMETER_VALUE`\n",
    "\n",
    "`-f` for yaml file\n",
    "\n",
    "`-y` for yaml on command line"
   ]
  }
 ],
 "metadata": {
  "kernelspec": {
   "display_name": "Python 3 (pangeo)",
   "language": "python",
   "name": "pangeo"
  },
  "language_info": {
   "codemirror_mode": {
    "name": "ipython",
    "version": 3
   },
   "file_extension": ".py",
   "mimetype": "text/x-python",
   "name": "python",
   "nbconvert_exporter": "python",
   "pygments_lexer": "ipython3",
   "version": "3.8.5"
  }
 },
 "nbformat": 4,
 "nbformat_minor": 4
}
